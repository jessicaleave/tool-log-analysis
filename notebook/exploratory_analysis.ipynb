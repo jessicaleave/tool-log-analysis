{
 "cells": [
  {
   "cell_type": "markdown",
   "metadata": {},
   "source": [
    "## Tool Log Exploratory Data Analysis"
   ]
  },
  {
   "cell_type": "markdown",
   "metadata": {},
   "source": [
    "### Setup"
   ]
  },
  {
   "cell_type": "code",
   "execution_count": 2,
   "metadata": {},
   "outputs": [],
   "source": [
    "import pandas as pd\n",
    "from pathlib import Path"
   ]
  },
  {
   "cell_type": "markdown",
   "metadata": {},
   "source": [
    "### Read Data"
   ]
  },
  {
   "cell_type": "code",
   "execution_count": 3,
   "metadata": {},
   "outputs": [],
   "source": [
    "# Set up path to the CSV data in the parent folder's 'data' directory\n",
    "current_dir = Path.cwd()\n",
    "data_path = current_dir.parent / \"data\" / \"mock_tool_log_final.csv\"\n",
    "\n",
    "# Load the CSV\n",
    "df = pd.read_csv(data_path, parse_dates=[\"start_time\", \"end_time\"])"
   ]
  },
  {
   "cell_type": "markdown",
   "metadata": {},
   "source": [
    "### Preview Data"
   ]
  },
  {
   "cell_type": "code",
   "execution_count": 4,
   "metadata": {},
   "outputs": [
    {
     "data": {
      "text/html": [
       "<div>\n",
       "<style scoped>\n",
       "    .dataframe tbody tr th:only-of-type {\n",
       "        vertical-align: middle;\n",
       "    }\n",
       "\n",
       "    .dataframe tbody tr th {\n",
       "        vertical-align: top;\n",
       "    }\n",
       "\n",
       "    .dataframe thead th {\n",
       "        text-align: right;\n",
       "    }\n",
       "</style>\n",
       "<table border=\"1\" class=\"dataframe\">\n",
       "  <thead>\n",
       "    <tr style=\"text-align: right;\">\n",
       "      <th></th>\n",
       "      <th>tool_id</th>\n",
       "      <th>tool_status</th>\n",
       "      <th>merge_key</th>\n",
       "      <th>start_time</th>\n",
       "      <th>end_time</th>\n",
       "    </tr>\n",
       "  </thead>\n",
       "  <tbody>\n",
       "    <tr>\n",
       "      <th>0</th>\n",
       "      <td>TOOL_001</td>\n",
       "      <td>Scheduled Downtime; Preventive Maintenance; Bi...</td>\n",
       "      <td>1</td>\n",
       "      <td>2024-04-01 00:00:00</td>\n",
       "      <td>2024-04-01 04:00:00</td>\n",
       "    </tr>\n",
       "    <tr>\n",
       "      <th>1</th>\n",
       "      <td>TOOL_001</td>\n",
       "      <td>Scheduled Downtime; User Maintenance Delay;</td>\n",
       "      <td>2</td>\n",
       "      <td>2024-04-01 04:00:00</td>\n",
       "      <td>2024-04-01 06:00:00</td>\n",
       "    </tr>\n",
       "    <tr>\n",
       "      <th>2</th>\n",
       "      <td>TOOL_001</td>\n",
       "      <td>Scheduled Downtime; Preventive Maintenance; Bi...</td>\n",
       "      <td>3</td>\n",
       "      <td>2024-04-01 06:00:00</td>\n",
       "      <td>2024-04-01 08:00:00</td>\n",
       "    </tr>\n",
       "    <tr>\n",
       "      <th>3</th>\n",
       "      <td>TOOL_001</td>\n",
       "      <td>Productive; Engineering Runs; Post Maintenance...</td>\n",
       "      <td>4</td>\n",
       "      <td>2024-04-01 08:00:00</td>\n",
       "      <td>2024-04-01 10:00:00</td>\n",
       "    </tr>\n",
       "    <tr>\n",
       "      <th>4</th>\n",
       "      <td>TOOL_001</td>\n",
       "      <td>Productive; Regular Production</td>\n",
       "      <td>5</td>\n",
       "      <td>2024-04-01 10:00:00</td>\n",
       "      <td>2024-04-01 13:00:00</td>\n",
       "    </tr>\n",
       "  </tbody>\n",
       "</table>\n",
       "</div>"
      ],
      "text/plain": [
       "    tool_id                                        tool_status  merge_key  \\\n",
       "0  TOOL_001  Scheduled Downtime; Preventive Maintenance; Bi...          1   \n",
       "1  TOOL_001        Scheduled Downtime; User Maintenance Delay;          2   \n",
       "2  TOOL_001  Scheduled Downtime; Preventive Maintenance; Bi...          3   \n",
       "3  TOOL_001  Productive; Engineering Runs; Post Maintenance...          4   \n",
       "4  TOOL_001                     Productive; Regular Production          5   \n",
       "\n",
       "           start_time            end_time  \n",
       "0 2024-04-01 00:00:00 2024-04-01 04:00:00  \n",
       "1 2024-04-01 04:00:00 2024-04-01 06:00:00  \n",
       "2 2024-04-01 06:00:00 2024-04-01 08:00:00  \n",
       "3 2024-04-01 08:00:00 2024-04-01 10:00:00  \n",
       "4 2024-04-01 10:00:00 2024-04-01 13:00:00  "
      ]
     },
     "execution_count": 4,
     "metadata": {},
     "output_type": "execute_result"
    }
   ],
   "source": [
    "df.head()"
   ]
  },
  {
   "cell_type": "code",
   "execution_count": 5,
   "metadata": {},
   "outputs": [
    {
     "name": "stdout",
     "output_type": "stream",
     "text": [
      "<class 'pandas.core.frame.DataFrame'>\n",
      "RangeIndex: 40982 entries, 0 to 40981\n",
      "Data columns (total 5 columns):\n",
      " #   Column       Non-Null Count  Dtype         \n",
      "---  ------       --------------  -----         \n",
      " 0   tool_id      40982 non-null  object        \n",
      " 1   tool_status  40982 non-null  object        \n",
      " 2   merge_key    40982 non-null  int64         \n",
      " 3   start_time   40982 non-null  datetime64[ns]\n",
      " 4   end_time     40982 non-null  datetime64[ns]\n",
      "dtypes: datetime64[ns](2), int64(1), object(2)\n",
      "memory usage: 1.6+ MB\n"
     ]
    }
   ],
   "source": [
    "df.info()\n"
   ]
  },
  {
   "cell_type": "code",
   "execution_count": 7,
   "metadata": {},
   "outputs": [
    {
     "data": {
      "text/plain": [
       "tool_id        0\n",
       "tool_status    0\n",
       "merge_key      0\n",
       "start_time     0\n",
       "end_time       0\n",
       "dtype: int64"
      ]
     },
     "execution_count": 7,
     "metadata": {},
     "output_type": "execute_result"
    }
   ],
   "source": [
    "df.isnull().sum()"
   ]
  },
  {
   "cell_type": "code",
   "execution_count": 6,
   "metadata": {},
   "outputs": [
    {
     "data": {
      "text/plain": [
       "array(['Scheduled Downtime; Preventive Maintenance; Bi-Weekly PM',\n",
       "       'Scheduled Downtime; User Maintenance Delay;',\n",
       "       'Productive; Engineering Runs; Post Maintenance Qual',\n",
       "       'Productive; Regular Production', 'Standby; No Product',\n",
       "       'Unscheduled Downtime; User Maintenance Delay',\n",
       "       'Unscheduled Downtime; Repair; Repair - Repair',\n",
       "       'Standby; No Operator; Waiting For Carrier Delivery/Pickup',\n",
       "       'Productive; Engineering Runs; Service Routine - Do Not Reload',\n",
       "       'Productive; Engineering Runs; Processing - Do Not Reload',\n",
       "       'Productive; Engineering Runs; Holding for Priority Lot',\n",
       "       'Unscheduled Downtime; Supplier Maintenance Delay; Waiting for Parts (Vendor)'],\n",
       "      dtype=object)"
      ]
     },
     "execution_count": 6,
     "metadata": {},
     "output_type": "execute_result"
    }
   ],
   "source": [
    "df[\"tool_status\"].unique()"
   ]
  },
  {
   "cell_type": "code",
   "execution_count": 8,
   "metadata": {},
   "outputs": [
    {
     "data": {
      "text/plain": [
       "tool_id           12\n",
       "tool_status       12\n",
       "merge_key      40982\n",
       "start_time      8735\n",
       "end_time        8735\n",
       "dtype: int64"
      ]
     },
     "execution_count": 8,
     "metadata": {},
     "output_type": "execute_result"
    }
   ],
   "source": [
    "df.nunique()"
   ]
  }
 ],
 "metadata": {
  "kernelspec": {
   "display_name": "Python 3",
   "language": "python",
   "name": "python3"
  },
  "language_info": {
   "codemirror_mode": {
    "name": "ipython",
    "version": 3
   },
   "file_extension": ".py",
   "mimetype": "text/x-python",
   "name": "python",
   "nbconvert_exporter": "python",
   "pygments_lexer": "ipython3",
   "version": "3.10.4"
  }
 },
 "nbformat": 4,
 "nbformat_minor": 2
}
