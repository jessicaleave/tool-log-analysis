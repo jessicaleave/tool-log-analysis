{
 "cells": [
  {
   "cell_type": "markdown",
   "metadata": {},
   "source": [
    "## Tool Log Exploratory Data Analysis"
   ]
  },
  {
   "cell_type": "markdown",
   "metadata": {},
   "source": [
    "### Setup"
   ]
  },
  {
   "cell_type": "code",
   "execution_count": 40,
   "metadata": {},
   "outputs": [],
   "source": [
    "import pandas as pd\n",
    "from pathlib import Path\n",
    "import matplotlib.pyplot as plt\n",
    "from matplotlib.ticker import PercentFormatter\n",
    "import plotly.graph_objects as go"
   ]
  },
  {
   "cell_type": "markdown",
   "metadata": {},
   "source": [
    "### Load Data & Initial Preview"
   ]
  },
  {
   "cell_type": "code",
   "execution_count": 3,
   "metadata": {},
   "outputs": [],
   "source": [
    "# Set up path to the CSV data in the parent folder's 'data' directory\n",
    "current_dir = Path.cwd()\n",
    "data_path = current_dir.parent / \"data\" / \"mock_tool_log_final.csv\"\n",
    "\n",
    "# Load the CSV\n",
    "df = pd.read_csv(data_path, parse_dates=[\"start_time\", \"end_time\"])"
   ]
  },
  {
   "cell_type": "code",
   "execution_count": 4,
   "metadata": {},
   "outputs": [
    {
     "data": {
      "text/html": [
       "<div>\n",
       "<style scoped>\n",
       "    .dataframe tbody tr th:only-of-type {\n",
       "        vertical-align: middle;\n",
       "    }\n",
       "\n",
       "    .dataframe tbody tr th {\n",
       "        vertical-align: top;\n",
       "    }\n",
       "\n",
       "    .dataframe thead th {\n",
       "        text-align: right;\n",
       "    }\n",
       "</style>\n",
       "<table border=\"1\" class=\"dataframe\">\n",
       "  <thead>\n",
       "    <tr style=\"text-align: right;\">\n",
       "      <th></th>\n",
       "      <th>tool_id</th>\n",
       "      <th>tool_status</th>\n",
       "      <th>merge_key</th>\n",
       "      <th>start_time</th>\n",
       "      <th>end_time</th>\n",
       "    </tr>\n",
       "  </thead>\n",
       "  <tbody>\n",
       "    <tr>\n",
       "      <th>0</th>\n",
       "      <td>TOOL_001</td>\n",
       "      <td>Scheduled Downtime; Preventive Maintenance; Bi...</td>\n",
       "      <td>1</td>\n",
       "      <td>2024-04-01 00:00:00</td>\n",
       "      <td>2024-04-01 04:00:00</td>\n",
       "    </tr>\n",
       "    <tr>\n",
       "      <th>1</th>\n",
       "      <td>TOOL_001</td>\n",
       "      <td>Scheduled Downtime; User Maintenance Delay;</td>\n",
       "      <td>2</td>\n",
       "      <td>2024-04-01 04:00:00</td>\n",
       "      <td>2024-04-01 06:00:00</td>\n",
       "    </tr>\n",
       "    <tr>\n",
       "      <th>2</th>\n",
       "      <td>TOOL_001</td>\n",
       "      <td>Scheduled Downtime; Preventive Maintenance; Bi...</td>\n",
       "      <td>3</td>\n",
       "      <td>2024-04-01 06:00:00</td>\n",
       "      <td>2024-04-01 08:00:00</td>\n",
       "    </tr>\n",
       "    <tr>\n",
       "      <th>3</th>\n",
       "      <td>TOOL_001</td>\n",
       "      <td>Productive; Engineering Runs; Post Maintenance...</td>\n",
       "      <td>4</td>\n",
       "      <td>2024-04-01 08:00:00</td>\n",
       "      <td>2024-04-01 10:00:00</td>\n",
       "    </tr>\n",
       "    <tr>\n",
       "      <th>4</th>\n",
       "      <td>TOOL_001</td>\n",
       "      <td>Productive; Regular Production</td>\n",
       "      <td>5</td>\n",
       "      <td>2024-04-01 10:00:00</td>\n",
       "      <td>2024-04-01 13:00:00</td>\n",
       "    </tr>\n",
       "  </tbody>\n",
       "</table>\n",
       "</div>"
      ],
      "text/plain": [
       "    tool_id                                        tool_status  merge_key  \\\n",
       "0  TOOL_001  Scheduled Downtime; Preventive Maintenance; Bi...          1   \n",
       "1  TOOL_001        Scheduled Downtime; User Maintenance Delay;          2   \n",
       "2  TOOL_001  Scheduled Downtime; Preventive Maintenance; Bi...          3   \n",
       "3  TOOL_001  Productive; Engineering Runs; Post Maintenance...          4   \n",
       "4  TOOL_001                     Productive; Regular Production          5   \n",
       "\n",
       "           start_time            end_time  \n",
       "0 2024-04-01 00:00:00 2024-04-01 04:00:00  \n",
       "1 2024-04-01 04:00:00 2024-04-01 06:00:00  \n",
       "2 2024-04-01 06:00:00 2024-04-01 08:00:00  \n",
       "3 2024-04-01 08:00:00 2024-04-01 10:00:00  \n",
       "4 2024-04-01 10:00:00 2024-04-01 13:00:00  "
      ]
     },
     "execution_count": 4,
     "metadata": {},
     "output_type": "execute_result"
    }
   ],
   "source": [
    "df.head()"
   ]
  },
  {
   "cell_type": "code",
   "execution_count": 5,
   "metadata": {},
   "outputs": [
    {
     "name": "stdout",
     "output_type": "stream",
     "text": [
      "<class 'pandas.core.frame.DataFrame'>\n",
      "RangeIndex: 40982 entries, 0 to 40981\n",
      "Data columns (total 5 columns):\n",
      " #   Column       Non-Null Count  Dtype         \n",
      "---  ------       --------------  -----         \n",
      " 0   tool_id      40982 non-null  object        \n",
      " 1   tool_status  40982 non-null  object        \n",
      " 2   merge_key    40982 non-null  int64         \n",
      " 3   start_time   40982 non-null  datetime64[ns]\n",
      " 4   end_time     40982 non-null  datetime64[ns]\n",
      "dtypes: datetime64[ns](2), int64(1), object(2)\n",
      "memory usage: 1.6+ MB\n"
     ]
    }
   ],
   "source": [
    "df.info()\n"
   ]
  },
  {
   "cell_type": "code",
   "execution_count": 9,
   "metadata": {},
   "outputs": [
    {
     "data": {
      "text/plain": [
       "(40982, 5)"
      ]
     },
     "execution_count": 9,
     "metadata": {},
     "output_type": "execute_result"
    }
   ],
   "source": [
    "df.shape"
   ]
  },
  {
   "cell_type": "code",
   "execution_count": 7,
   "metadata": {},
   "outputs": [
    {
     "data": {
      "text/plain": [
       "tool_id        0\n",
       "tool_status    0\n",
       "merge_key      0\n",
       "start_time     0\n",
       "end_time       0\n",
       "dtype: int64"
      ]
     },
     "execution_count": 7,
     "metadata": {},
     "output_type": "execute_result"
    }
   ],
   "source": [
    "df.isnull().sum()"
   ]
  },
  {
   "cell_type": "code",
   "execution_count": 8,
   "metadata": {},
   "outputs": [
    {
     "data": {
      "text/plain": [
       "tool_id           12\n",
       "tool_status       12\n",
       "merge_key      40982\n",
       "start_time      8735\n",
       "end_time        8735\n",
       "dtype: int64"
      ]
     },
     "execution_count": 8,
     "metadata": {},
     "output_type": "execute_result"
    }
   ],
   "source": [
    "df.nunique()"
   ]
  },
  {
   "cell_type": "code",
   "execution_count": 6,
   "metadata": {},
   "outputs": [
    {
     "data": {
      "text/plain": [
       "array(['Scheduled Downtime; Preventive Maintenance; Bi-Weekly PM',\n",
       "       'Scheduled Downtime; User Maintenance Delay;',\n",
       "       'Productive; Engineering Runs; Post Maintenance Qual',\n",
       "       'Productive; Regular Production', 'Standby; No Product',\n",
       "       'Unscheduled Downtime; User Maintenance Delay',\n",
       "       'Unscheduled Downtime; Repair; Repair - Repair',\n",
       "       'Standby; No Operator; Waiting For Carrier Delivery/Pickup',\n",
       "       'Productive; Engineering Runs; Service Routine - Do Not Reload',\n",
       "       'Productive; Engineering Runs; Processing - Do Not Reload',\n",
       "       'Productive; Engineering Runs; Holding for Priority Lot',\n",
       "       'Unscheduled Downtime; Supplier Maintenance Delay; Waiting for Parts (Vendor)'],\n",
       "      dtype=object)"
      ]
     },
     "execution_count": 6,
     "metadata": {},
     "output_type": "execute_result"
    }
   ],
   "source": [
    "df[\"tool_status\"].unique()"
   ]
  },
  {
   "cell_type": "markdown",
   "metadata": {},
   "source": [
    "### Preclean"
   ]
  },
  {
   "cell_type": "markdown",
   "metadata": {},
   "source": [
    "#### Drop merge_key if exists"
   ]
  },
  {
   "cell_type": "code",
   "execution_count": 10,
   "metadata": {},
   "outputs": [],
   "source": [
    "if \"merge_key\" in df.columns:\n",
    "    df = df.drop(columns=[\"merge_key\"])"
   ]
  },
  {
   "cell_type": "code",
   "execution_count": 11,
   "metadata": {},
   "outputs": [
    {
     "data": {
      "text/html": [
       "<div>\n",
       "<style scoped>\n",
       "    .dataframe tbody tr th:only-of-type {\n",
       "        vertical-align: middle;\n",
       "    }\n",
       "\n",
       "    .dataframe tbody tr th {\n",
       "        vertical-align: top;\n",
       "    }\n",
       "\n",
       "    .dataframe thead th {\n",
       "        text-align: right;\n",
       "    }\n",
       "</style>\n",
       "<table border=\"1\" class=\"dataframe\">\n",
       "  <thead>\n",
       "    <tr style=\"text-align: right;\">\n",
       "      <th></th>\n",
       "      <th>tool_id</th>\n",
       "      <th>tool_status</th>\n",
       "      <th>start_time</th>\n",
       "      <th>end_time</th>\n",
       "    </tr>\n",
       "  </thead>\n",
       "  <tbody>\n",
       "    <tr>\n",
       "      <th>0</th>\n",
       "      <td>TOOL_001</td>\n",
       "      <td>Scheduled Downtime; Preventive Maintenance; Bi...</td>\n",
       "      <td>2024-04-01 00:00:00</td>\n",
       "      <td>2024-04-01 04:00:00</td>\n",
       "    </tr>\n",
       "    <tr>\n",
       "      <th>1</th>\n",
       "      <td>TOOL_001</td>\n",
       "      <td>Scheduled Downtime; User Maintenance Delay;</td>\n",
       "      <td>2024-04-01 04:00:00</td>\n",
       "      <td>2024-04-01 06:00:00</td>\n",
       "    </tr>\n",
       "    <tr>\n",
       "      <th>2</th>\n",
       "      <td>TOOL_001</td>\n",
       "      <td>Scheduled Downtime; Preventive Maintenance; Bi...</td>\n",
       "      <td>2024-04-01 06:00:00</td>\n",
       "      <td>2024-04-01 08:00:00</td>\n",
       "    </tr>\n",
       "    <tr>\n",
       "      <th>3</th>\n",
       "      <td>TOOL_001</td>\n",
       "      <td>Productive; Engineering Runs; Post Maintenance...</td>\n",
       "      <td>2024-04-01 08:00:00</td>\n",
       "      <td>2024-04-01 10:00:00</td>\n",
       "    </tr>\n",
       "    <tr>\n",
       "      <th>4</th>\n",
       "      <td>TOOL_001</td>\n",
       "      <td>Productive; Regular Production</td>\n",
       "      <td>2024-04-01 10:00:00</td>\n",
       "      <td>2024-04-01 13:00:00</td>\n",
       "    </tr>\n",
       "  </tbody>\n",
       "</table>\n",
       "</div>"
      ],
      "text/plain": [
       "    tool_id                                        tool_status  \\\n",
       "0  TOOL_001  Scheduled Downtime; Preventive Maintenance; Bi...   \n",
       "1  TOOL_001        Scheduled Downtime; User Maintenance Delay;   \n",
       "2  TOOL_001  Scheduled Downtime; Preventive Maintenance; Bi...   \n",
       "3  TOOL_001  Productive; Engineering Runs; Post Maintenance...   \n",
       "4  TOOL_001                     Productive; Regular Production   \n",
       "\n",
       "           start_time            end_time  \n",
       "0 2024-04-01 00:00:00 2024-04-01 04:00:00  \n",
       "1 2024-04-01 04:00:00 2024-04-01 06:00:00  \n",
       "2 2024-04-01 06:00:00 2024-04-01 08:00:00  \n",
       "3 2024-04-01 08:00:00 2024-04-01 10:00:00  \n",
       "4 2024-04-01 10:00:00 2024-04-01 13:00:00  "
      ]
     },
     "execution_count": 11,
     "metadata": {},
     "output_type": "execute_result"
    }
   ],
   "source": [
    "df.head()"
   ]
  },
  {
   "cell_type": "markdown",
   "metadata": {},
   "source": [
    "#### Split tool_status into levels"
   ]
  },
  {
   "cell_type": "code",
   "execution_count": 12,
   "metadata": {},
   "outputs": [],
   "source": [
    "df[[\"status_level_1\", \"status_level_2\", \"status_level_3\"]] = df[\"tool_status\"].str.split(\";\", n=2, expand=True)\n",
    "df[[\"status_level_1\", \"status_level_2\", \"status_level_3\"]] = df[[\"status_level_1\", \"status_level_2\", \"status_level_3\"]].apply(lambda x: x.str.strip())\n"
   ]
  },
  {
   "cell_type": "code",
   "execution_count": 13,
   "metadata": {},
   "outputs": [
    {
     "data": {
      "text/html": [
       "<div>\n",
       "<style scoped>\n",
       "    .dataframe tbody tr th:only-of-type {\n",
       "        vertical-align: middle;\n",
       "    }\n",
       "\n",
       "    .dataframe tbody tr th {\n",
       "        vertical-align: top;\n",
       "    }\n",
       "\n",
       "    .dataframe thead th {\n",
       "        text-align: right;\n",
       "    }\n",
       "</style>\n",
       "<table border=\"1\" class=\"dataframe\">\n",
       "  <thead>\n",
       "    <tr style=\"text-align: right;\">\n",
       "      <th></th>\n",
       "      <th>tool_id</th>\n",
       "      <th>tool_status</th>\n",
       "      <th>start_time</th>\n",
       "      <th>end_time</th>\n",
       "      <th>status_level_1</th>\n",
       "      <th>status_level_2</th>\n",
       "      <th>status_level_3</th>\n",
       "    </tr>\n",
       "  </thead>\n",
       "  <tbody>\n",
       "    <tr>\n",
       "      <th>0</th>\n",
       "      <td>TOOL_001</td>\n",
       "      <td>Scheduled Downtime; Preventive Maintenance; Bi...</td>\n",
       "      <td>2024-04-01 00:00:00</td>\n",
       "      <td>2024-04-01 04:00:00</td>\n",
       "      <td>Scheduled Downtime</td>\n",
       "      <td>Preventive Maintenance</td>\n",
       "      <td>Bi-Weekly PM</td>\n",
       "    </tr>\n",
       "    <tr>\n",
       "      <th>1</th>\n",
       "      <td>TOOL_001</td>\n",
       "      <td>Scheduled Downtime; User Maintenance Delay;</td>\n",
       "      <td>2024-04-01 04:00:00</td>\n",
       "      <td>2024-04-01 06:00:00</td>\n",
       "      <td>Scheduled Downtime</td>\n",
       "      <td>User Maintenance Delay</td>\n",
       "      <td></td>\n",
       "    </tr>\n",
       "    <tr>\n",
       "      <th>2</th>\n",
       "      <td>TOOL_001</td>\n",
       "      <td>Scheduled Downtime; Preventive Maintenance; Bi...</td>\n",
       "      <td>2024-04-01 06:00:00</td>\n",
       "      <td>2024-04-01 08:00:00</td>\n",
       "      <td>Scheduled Downtime</td>\n",
       "      <td>Preventive Maintenance</td>\n",
       "      <td>Bi-Weekly PM</td>\n",
       "    </tr>\n",
       "    <tr>\n",
       "      <th>3</th>\n",
       "      <td>TOOL_001</td>\n",
       "      <td>Productive; Engineering Runs; Post Maintenance...</td>\n",
       "      <td>2024-04-01 08:00:00</td>\n",
       "      <td>2024-04-01 10:00:00</td>\n",
       "      <td>Productive</td>\n",
       "      <td>Engineering Runs</td>\n",
       "      <td>Post Maintenance Qual</td>\n",
       "    </tr>\n",
       "    <tr>\n",
       "      <th>4</th>\n",
       "      <td>TOOL_001</td>\n",
       "      <td>Productive; Regular Production</td>\n",
       "      <td>2024-04-01 10:00:00</td>\n",
       "      <td>2024-04-01 13:00:00</td>\n",
       "      <td>Productive</td>\n",
       "      <td>Regular Production</td>\n",
       "      <td>None</td>\n",
       "    </tr>\n",
       "  </tbody>\n",
       "</table>\n",
       "</div>"
      ],
      "text/plain": [
       "    tool_id                                        tool_status  \\\n",
       "0  TOOL_001  Scheduled Downtime; Preventive Maintenance; Bi...   \n",
       "1  TOOL_001        Scheduled Downtime; User Maintenance Delay;   \n",
       "2  TOOL_001  Scheduled Downtime; Preventive Maintenance; Bi...   \n",
       "3  TOOL_001  Productive; Engineering Runs; Post Maintenance...   \n",
       "4  TOOL_001                     Productive; Regular Production   \n",
       "\n",
       "           start_time            end_time      status_level_1  \\\n",
       "0 2024-04-01 00:00:00 2024-04-01 04:00:00  Scheduled Downtime   \n",
       "1 2024-04-01 04:00:00 2024-04-01 06:00:00  Scheduled Downtime   \n",
       "2 2024-04-01 06:00:00 2024-04-01 08:00:00  Scheduled Downtime   \n",
       "3 2024-04-01 08:00:00 2024-04-01 10:00:00          Productive   \n",
       "4 2024-04-01 10:00:00 2024-04-01 13:00:00          Productive   \n",
       "\n",
       "           status_level_2         status_level_3  \n",
       "0  Preventive Maintenance           Bi-Weekly PM  \n",
       "1  User Maintenance Delay                         \n",
       "2  Preventive Maintenance           Bi-Weekly PM  \n",
       "3        Engineering Runs  Post Maintenance Qual  \n",
       "4      Regular Production                   None  "
      ]
     },
     "execution_count": 13,
     "metadata": {},
     "output_type": "execute_result"
    }
   ],
   "source": [
    "df.head()"
   ]
  },
  {
   "cell_type": "code",
   "execution_count": null,
   "metadata": {},
   "outputs": [],
   "source": [
    "df = df.sort_values(by=[\"tool_id\", \"start_time\"]).reset_index(drop=True)"
   ]
  },
  {
   "cell_type": "markdown",
   "metadata": {},
   "source": [
    "#### Add duration in minutes"
   ]
  },
  {
   "cell_type": "code",
   "execution_count": 14,
   "metadata": {},
   "outputs": [],
   "source": [
    "df[\"duration_min\"] = (df[\"end_time\"] - df[\"start_time\"]).dt.total_seconds() / 60"
   ]
  },
  {
   "cell_type": "code",
   "execution_count": 15,
   "metadata": {},
   "outputs": [
    {
     "data": {
      "text/html": [
       "<div>\n",
       "<style scoped>\n",
       "    .dataframe tbody tr th:only-of-type {\n",
       "        vertical-align: middle;\n",
       "    }\n",
       "\n",
       "    .dataframe tbody tr th {\n",
       "        vertical-align: top;\n",
       "    }\n",
       "\n",
       "    .dataframe thead th {\n",
       "        text-align: right;\n",
       "    }\n",
       "</style>\n",
       "<table border=\"1\" class=\"dataframe\">\n",
       "  <thead>\n",
       "    <tr style=\"text-align: right;\">\n",
       "      <th></th>\n",
       "      <th>tool_id</th>\n",
       "      <th>tool_status</th>\n",
       "      <th>start_time</th>\n",
       "      <th>end_time</th>\n",
       "      <th>status_level_1</th>\n",
       "      <th>status_level_2</th>\n",
       "      <th>status_level_3</th>\n",
       "      <th>duration_min</th>\n",
       "    </tr>\n",
       "  </thead>\n",
       "  <tbody>\n",
       "    <tr>\n",
       "      <th>0</th>\n",
       "      <td>TOOL_001</td>\n",
       "      <td>Scheduled Downtime; Preventive Maintenance; Bi...</td>\n",
       "      <td>2024-04-01 00:00:00</td>\n",
       "      <td>2024-04-01 04:00:00</td>\n",
       "      <td>Scheduled Downtime</td>\n",
       "      <td>Preventive Maintenance</td>\n",
       "      <td>Bi-Weekly PM</td>\n",
       "      <td>240.0</td>\n",
       "    </tr>\n",
       "    <tr>\n",
       "      <th>1</th>\n",
       "      <td>TOOL_001</td>\n",
       "      <td>Scheduled Downtime; User Maintenance Delay;</td>\n",
       "      <td>2024-04-01 04:00:00</td>\n",
       "      <td>2024-04-01 06:00:00</td>\n",
       "      <td>Scheduled Downtime</td>\n",
       "      <td>User Maintenance Delay</td>\n",
       "      <td></td>\n",
       "      <td>120.0</td>\n",
       "    </tr>\n",
       "    <tr>\n",
       "      <th>2</th>\n",
       "      <td>TOOL_001</td>\n",
       "      <td>Scheduled Downtime; Preventive Maintenance; Bi...</td>\n",
       "      <td>2024-04-01 06:00:00</td>\n",
       "      <td>2024-04-01 08:00:00</td>\n",
       "      <td>Scheduled Downtime</td>\n",
       "      <td>Preventive Maintenance</td>\n",
       "      <td>Bi-Weekly PM</td>\n",
       "      <td>120.0</td>\n",
       "    </tr>\n",
       "    <tr>\n",
       "      <th>3</th>\n",
       "      <td>TOOL_001</td>\n",
       "      <td>Productive; Engineering Runs; Post Maintenance...</td>\n",
       "      <td>2024-04-01 08:00:00</td>\n",
       "      <td>2024-04-01 10:00:00</td>\n",
       "      <td>Productive</td>\n",
       "      <td>Engineering Runs</td>\n",
       "      <td>Post Maintenance Qual</td>\n",
       "      <td>120.0</td>\n",
       "    </tr>\n",
       "    <tr>\n",
       "      <th>4</th>\n",
       "      <td>TOOL_001</td>\n",
       "      <td>Productive; Regular Production</td>\n",
       "      <td>2024-04-01 10:00:00</td>\n",
       "      <td>2024-04-01 13:00:00</td>\n",
       "      <td>Productive</td>\n",
       "      <td>Regular Production</td>\n",
       "      <td>None</td>\n",
       "      <td>180.0</td>\n",
       "    </tr>\n",
       "  </tbody>\n",
       "</table>\n",
       "</div>"
      ],
      "text/plain": [
       "    tool_id                                        tool_status  \\\n",
       "0  TOOL_001  Scheduled Downtime; Preventive Maintenance; Bi...   \n",
       "1  TOOL_001        Scheduled Downtime; User Maintenance Delay;   \n",
       "2  TOOL_001  Scheduled Downtime; Preventive Maintenance; Bi...   \n",
       "3  TOOL_001  Productive; Engineering Runs; Post Maintenance...   \n",
       "4  TOOL_001                     Productive; Regular Production   \n",
       "\n",
       "           start_time            end_time      status_level_1  \\\n",
       "0 2024-04-01 00:00:00 2024-04-01 04:00:00  Scheduled Downtime   \n",
       "1 2024-04-01 04:00:00 2024-04-01 06:00:00  Scheduled Downtime   \n",
       "2 2024-04-01 06:00:00 2024-04-01 08:00:00  Scheduled Downtime   \n",
       "3 2024-04-01 08:00:00 2024-04-01 10:00:00          Productive   \n",
       "4 2024-04-01 10:00:00 2024-04-01 13:00:00          Productive   \n",
       "\n",
       "           status_level_2         status_level_3  duration_min  \n",
       "0  Preventive Maintenance           Bi-Weekly PM         240.0  \n",
       "1  User Maintenance Delay                                120.0  \n",
       "2  Preventive Maintenance           Bi-Weekly PM         120.0  \n",
       "3        Engineering Runs  Post Maintenance Qual         120.0  \n",
       "4      Regular Production                   None         180.0  "
      ]
     },
     "execution_count": 15,
     "metadata": {},
     "output_type": "execute_result"
    }
   ],
   "source": [
    "df.head()"
   ]
  },
  {
   "cell_type": "markdown",
   "metadata": {},
   "source": [
    "### Time Coverage"
   ]
  },
  {
   "cell_type": "code",
   "execution_count": 16,
   "metadata": {},
   "outputs": [
    {
     "data": {
      "text/plain": [
       "Timestamp('2024-04-01 00:00:00')"
      ]
     },
     "execution_count": 16,
     "metadata": {},
     "output_type": "execute_result"
    }
   ],
   "source": [
    "df[\"start_time\"].min()"
   ]
  },
  {
   "cell_type": "code",
   "execution_count": 17,
   "metadata": {},
   "outputs": [
    {
     "data": {
      "text/plain": [
       "Timestamp('2025-04-01 00:00:00')"
      ]
     },
     "execution_count": 17,
     "metadata": {},
     "output_type": "execute_result"
    }
   ],
   "source": [
    "df[\"end_time\"].max()"
   ]
  },
  {
   "cell_type": "markdown",
   "metadata": {},
   "source": [
    "### Tool-Level Duration Overview"
   ]
  },
  {
   "cell_type": "code",
   "execution_count": 33,
   "metadata": {},
   "outputs": [],
   "source": [
    "duration_by_tool = df.groupby([\"tool_id\", \"status_level_1\"])[\"duration_min\"].sum().unstack(fill_value=0)"
   ]
  },
  {
   "cell_type": "code",
   "execution_count": 39,
   "metadata": {},
   "outputs": [
    {
     "data": {
      "image/png": "[encoded data removed]",
      "text/plain": [
       "<Figure size 1200x600 with 1 Axes>"
      ]
     },
     "metadata": {},
     "output_type": "display_data"
    }
   ],
   "source": [
    "duration_by_tool.plot(\n",
    "    kind=\"bar\",\n",
    "    stacked=True,\n",
    "    figsize=(12, 6),\n",
    "    colormap=\"Set3\",\n",
    "    title=\"Total Duration by Tool (Grouped by Status)\"\n",
    ")\n",
    "plt.ylabel(\"Total Duration (minutes)\")\n",
    "plt.xlabel(\"Tool ID\")\n",
    "plt.xticks(rotation=45)\n",
    "plt.legend(title=\"Status\", bbox_to_anchor=(1.02, 1), loc=\"upper left\")\n",
    "plt.tight_layout()\n",
    "plt.show()"
   ]
  },
  {
   "cell_type": "code",
   "execution_count": 38,
   "metadata": {},
   "outputs": [
    {
     "data": {
      "image/png": "[encoded data removed]",
      "text/plain": [
       "<Figure size 1200x600 with 1 Axes>"
      ]
     },
     "metadata": {},
     "output_type": "display_data"
    }
   ],
   "source": [
    "tool_ratio = duration_by_tool.div(duration_by_tool.sum(axis=1), axis=0)\n",
    "\n",
    "tool_ratio.plot(\n",
    "    kind=\"bar\",\n",
    "    stacked=True,\n",
    "    figsize=(12, 6),\n",
    "    colormap=\"Set3\",\n",
    "    title=\"Status Proportion by Tool\"\n",
    ")\n",
    "plt.ylabel(\"Proportion\")\n",
    "plt.xlabel(\"Tool ID\")\n",
    "plt.gca().yaxis.set_major_formatter(PercentFormatter(1.0))\n",
    "plt.xticks(rotation=45)\n",
    "plt.legend(title=\"Status\", bbox_to_anchor=(1.02, 1), loc=\"upper left\")\n",
    "plt.tight_layout()\n",
    "plt.show()"
   ]
  },
  {
   "cell_type": "markdown",
   "metadata": {},
   "source": [
    "### Duration by Tool by Month by Status Category"
   ]
  },
  {
   "cell_type": "code",
   "execution_count": 21,
   "metadata": {},
   "outputs": [],
   "source": [
    "df[\"month\"] = df[\"start_time\"].dt.to_period(\"M\").astype(str)\n",
    "monthly_status_duration = df.groupby([\"tool_id\", \"month\", \"status_level_1\"])[\"duration_min\"].sum().reset_index()"
   ]
  },
  {
   "cell_type": "code",
   "execution_count": 22,
   "metadata": {},
   "outputs": [
    {
     "data": {
      "text/html": [
       "<div>\n",
       "<style scoped>\n",
       "    .dataframe tbody tr th:only-of-type {\n",
       "        vertical-align: middle;\n",
       "    }\n",
       "\n",
       "    .dataframe tbody tr th {\n",
       "        vertical-align: top;\n",
       "    }\n",
       "\n",
       "    .dataframe thead th {\n",
       "        text-align: right;\n",
       "    }\n",
       "</style>\n",
       "<table border=\"1\" class=\"dataframe\">\n",
       "  <thead>\n",
       "    <tr style=\"text-align: right;\">\n",
       "      <th></th>\n",
       "      <th>tool_id</th>\n",
       "      <th>month</th>\n",
       "      <th>status_level_1</th>\n",
       "      <th>duration_min</th>\n",
       "    </tr>\n",
       "  </thead>\n",
       "  <tbody>\n",
       "    <tr>\n",
       "      <th>0</th>\n",
       "      <td>TOOL_001</td>\n",
       "      <td>2024-04</td>\n",
       "      <td>Productive</td>\n",
       "      <td>39900.0</td>\n",
       "    </tr>\n",
       "    <tr>\n",
       "      <th>1</th>\n",
       "      <td>TOOL_001</td>\n",
       "      <td>2024-04</td>\n",
       "      <td>Scheduled Downtime</td>\n",
       "      <td>900.0</td>\n",
       "    </tr>\n",
       "    <tr>\n",
       "      <th>2</th>\n",
       "      <td>TOOL_001</td>\n",
       "      <td>2024-04</td>\n",
       "      <td>Standby</td>\n",
       "      <td>540.0</td>\n",
       "    </tr>\n",
       "    <tr>\n",
       "      <th>3</th>\n",
       "      <td>TOOL_001</td>\n",
       "      <td>2024-04</td>\n",
       "      <td>Unscheduled Downtime</td>\n",
       "      <td>2040.0</td>\n",
       "    </tr>\n",
       "    <tr>\n",
       "      <th>4</th>\n",
       "      <td>TOOL_001</td>\n",
       "      <td>2024-05</td>\n",
       "      <td>Productive</td>\n",
       "      <td>42000.0</td>\n",
       "    </tr>\n",
       "    <tr>\n",
       "      <th>...</th>\n",
       "      <td>...</td>\n",
       "      <td>...</td>\n",
       "      <td>...</td>\n",
       "      <td>...</td>\n",
       "    </tr>\n",
       "    <tr>\n",
       "      <th>568</th>\n",
       "      <td>TOOL_012</td>\n",
       "      <td>2025-02</td>\n",
       "      <td>Unscheduled Downtime</td>\n",
       "      <td>1020.0</td>\n",
       "    </tr>\n",
       "    <tr>\n",
       "      <th>569</th>\n",
       "      <td>TOOL_012</td>\n",
       "      <td>2025-03</td>\n",
       "      <td>Productive</td>\n",
       "      <td>42120.0</td>\n",
       "    </tr>\n",
       "    <tr>\n",
       "      <th>570</th>\n",
       "      <td>TOOL_012</td>\n",
       "      <td>2025-03</td>\n",
       "      <td>Scheduled Downtime</td>\n",
       "      <td>540.0</td>\n",
       "    </tr>\n",
       "    <tr>\n",
       "      <th>571</th>\n",
       "      <td>TOOL_012</td>\n",
       "      <td>2025-03</td>\n",
       "      <td>Standby</td>\n",
       "      <td>1020.0</td>\n",
       "    </tr>\n",
       "    <tr>\n",
       "      <th>572</th>\n",
       "      <td>TOOL_012</td>\n",
       "      <td>2025-03</td>\n",
       "      <td>Unscheduled Downtime</td>\n",
       "      <td>900.0</td>\n",
       "    </tr>\n",
       "  </tbody>\n",
       "</table>\n",
       "<p>573 rows × 4 columns</p>\n",
       "</div>"
      ],
      "text/plain": [
       "      tool_id    month        status_level_1  duration_min\n",
       "0    TOOL_001  2024-04            Productive       39900.0\n",
       "1    TOOL_001  2024-04    Scheduled Downtime         900.0\n",
       "2    TOOL_001  2024-04               Standby         540.0\n",
       "3    TOOL_001  2024-04  Unscheduled Downtime        2040.0\n",
       "4    TOOL_001  2024-05            Productive       42000.0\n",
       "..        ...      ...                   ...           ...\n",
       "568  TOOL_012  2025-02  Unscheduled Downtime        1020.0\n",
       "569  TOOL_012  2025-03            Productive       42120.0\n",
       "570  TOOL_012  2025-03    Scheduled Downtime         540.0\n",
       "571  TOOL_012  2025-03               Standby        1020.0\n",
       "572  TOOL_012  2025-03  Unscheduled Downtime         900.0\n",
       "\n",
       "[573 rows x 4 columns]"
      ]
     },
     "execution_count": 22,
     "metadata": {},
     "output_type": "execute_result"
    }
   ],
   "source": [
    "monthly_status_duration"
   ]
  },
  {
   "cell_type": "code",
   "execution_count": 25,
   "metadata": {},
   "outputs": [],
   "source": [
    "monthly_status_duration_pivot = monthly_status_duration.pivot(index=[\"tool_id\", \"month\"], columns=\"status_level_1\", values=\"duration_min\").fillna(0)"
   ]
  },
  {
   "cell_type": "code",
   "execution_count": 26,
   "metadata": {},
   "outputs": [
    {
     "data": {
      "text/html": [
       "<div>\n",
       "<style scoped>\n",
       "    .dataframe tbody tr th:only-of-type {\n",
       "        vertical-align: middle;\n",
       "    }\n",
       "\n",
       "    .dataframe tbody tr th {\n",
       "        vertical-align: top;\n",
       "    }\n",
       "\n",
       "    .dataframe thead th {\n",
       "        text-align: right;\n",
       "    }\n",
       "</style>\n",
       "<table border=\"1\" class=\"dataframe\">\n",
       "  <thead>\n",
       "    <tr style=\"text-align: right;\">\n",
       "      <th></th>\n",
       "      <th>status_level_1</th>\n",
       "      <th>Productive</th>\n",
       "      <th>Scheduled Downtime</th>\n",
       "      <th>Standby</th>\n",
       "      <th>Unscheduled Downtime</th>\n",
       "    </tr>\n",
       "    <tr>\n",
       "      <th>tool_id</th>\n",
       "      <th>month</th>\n",
       "      <th></th>\n",
       "      <th></th>\n",
       "      <th></th>\n",
       "      <th></th>\n",
       "    </tr>\n",
       "  </thead>\n",
       "  <tbody>\n",
       "    <tr>\n",
       "      <th rowspan=\"5\" valign=\"top\">TOOL_001</th>\n",
       "      <th>2024-04</th>\n",
       "      <td>39900.0</td>\n",
       "      <td>900.0</td>\n",
       "      <td>540.0</td>\n",
       "      <td>2040.0</td>\n",
       "    </tr>\n",
       "    <tr>\n",
       "      <th>2024-05</th>\n",
       "      <td>42000.0</td>\n",
       "      <td>720.0</td>\n",
       "      <td>1260.0</td>\n",
       "      <td>600.0</td>\n",
       "    </tr>\n",
       "    <tr>\n",
       "      <th>2024-06</th>\n",
       "      <td>40740.0</td>\n",
       "      <td>960.0</td>\n",
       "      <td>600.0</td>\n",
       "      <td>900.0</td>\n",
       "    </tr>\n",
       "    <tr>\n",
       "      <th>2024-07</th>\n",
       "      <td>39420.0</td>\n",
       "      <td>2280.0</td>\n",
       "      <td>480.0</td>\n",
       "      <td>2460.0</td>\n",
       "    </tr>\n",
       "    <tr>\n",
       "      <th>2024-08</th>\n",
       "      <td>41940.0</td>\n",
       "      <td>1200.0</td>\n",
       "      <td>1140.0</td>\n",
       "      <td>240.0</td>\n",
       "    </tr>\n",
       "    <tr>\n",
       "      <th>...</th>\n",
       "      <th>...</th>\n",
       "      <td>...</td>\n",
       "      <td>...</td>\n",
       "      <td>...</td>\n",
       "      <td>...</td>\n",
       "    </tr>\n",
       "    <tr>\n",
       "      <th rowspan=\"5\" valign=\"top\">TOOL_012</th>\n",
       "      <th>2024-11</th>\n",
       "      <td>40380.0</td>\n",
       "      <td>1560.0</td>\n",
       "      <td>480.0</td>\n",
       "      <td>780.0</td>\n",
       "    </tr>\n",
       "    <tr>\n",
       "      <th>2024-12</th>\n",
       "      <td>41640.0</td>\n",
       "      <td>720.0</td>\n",
       "      <td>240.0</td>\n",
       "      <td>2040.0</td>\n",
       "    </tr>\n",
       "    <tr>\n",
       "      <th>2025-01</th>\n",
       "      <td>41880.0</td>\n",
       "      <td>1260.0</td>\n",
       "      <td>120.0</td>\n",
       "      <td>1320.0</td>\n",
       "    </tr>\n",
       "    <tr>\n",
       "      <th>2025-02</th>\n",
       "      <td>37980.0</td>\n",
       "      <td>900.0</td>\n",
       "      <td>480.0</td>\n",
       "      <td>1020.0</td>\n",
       "    </tr>\n",
       "    <tr>\n",
       "      <th>2025-03</th>\n",
       "      <td>42120.0</td>\n",
       "      <td>540.0</td>\n",
       "      <td>1020.0</td>\n",
       "      <td>900.0</td>\n",
       "    </tr>\n",
       "  </tbody>\n",
       "</table>\n",
       "<p>144 rows × 4 columns</p>\n",
       "</div>"
      ],
      "text/plain": [
       "status_level_1    Productive  Scheduled Downtime  Standby  \\\n",
       "tool_id  month                                              \n",
       "TOOL_001 2024-04     39900.0               900.0    540.0   \n",
       "         2024-05     42000.0               720.0   1260.0   \n",
       "         2024-06     40740.0               960.0    600.0   \n",
       "         2024-07     39420.0              2280.0    480.0   \n",
       "         2024-08     41940.0              1200.0   1140.0   \n",
       "...                      ...                 ...      ...   \n",
       "TOOL_012 2024-11     40380.0              1560.0    480.0   \n",
       "         2024-12     41640.0               720.0    240.0   \n",
       "         2025-01     41880.0              1260.0    120.0   \n",
       "         2025-02     37980.0               900.0    480.0   \n",
       "         2025-03     42120.0               540.0   1020.0   \n",
       "\n",
       "status_level_1    Unscheduled Downtime  \n",
       "tool_id  month                          \n",
       "TOOL_001 2024-04                2040.0  \n",
       "         2024-05                 600.0  \n",
       "         2024-06                 900.0  \n",
       "         2024-07                2460.0  \n",
       "         2024-08                 240.0  \n",
       "...                                ...  \n",
       "TOOL_012 2024-11                 780.0  \n",
       "         2024-12                2040.0  \n",
       "         2025-01                1320.0  \n",
       "         2025-02                1020.0  \n",
       "         2025-03                 900.0  \n",
       "\n",
       "[144 rows x 4 columns]"
      ]
     },
     "execution_count": 26,
     "metadata": {},
     "output_type": "execute_result"
    }
   ],
   "source": [
    "monthly_status_duration_pivot"
   ]
  },
  {
   "cell_type": "code",
   "execution_count": 37,
   "metadata": {},
   "outputs": [
    {
     "data": {
      "image/png": "[encoded data removed]",
      "text/plain": [
       "<Figure size 1400x500 with 1 Axes>"
      ]
     },
     "metadata": {},
     "output_type": "display_data"
    }
   ],
   "source": [
    "pivot_tool_1 = monthly_status_duration_pivot.loc[\"TOOL_001\"]\n",
    "pivot_tool_1.plot(\n",
    "    kind=\"bar\",\n",
    "    stacked=True,\n",
    "    figsize=(14, 5),\n",
    "    colormap=\"Set3\",\n",
    "    title=\"Monthly Status Duration Distribution - TOOL_001\"\n",
    ")\n",
    "plt.ylabel(\"Total Duration (minutes)\")\n",
    "plt.xlabel(\"Month\")\n",
    "plt.xticks(rotation=45)\n",
    "plt.legend(title=\"Status Level 1\", bbox_to_anchor=(1.05, 1), loc=\"upper left\")\n",
    "plt.tight_layout()\n",
    "plt.show()"
   ]
  },
  {
   "cell_type": "code",
   "execution_count": 30,
   "metadata": {},
   "outputs": [],
   "source": [
    "pivot_ratio = pivot_tool_1.div(pivot_tool_1.sum(axis=1), axis=0)\n"
   ]
  },
  {
   "cell_type": "code",
   "execution_count": 32,
   "metadata": {},
   "outputs": [
    {
     "data": {
      "image/png": "[encoded data removed]",
      "text/plain": [
       "<Figure size 1400x500 with 1 Axes>"
      ]
     },
     "metadata": {},
     "output_type": "display_data"
    }
   ],
   "source": [
    "pivot_ratio.plot(\n",
    "    kind=\"bar\",\n",
    "    stacked=True,\n",
    "    figsize=(14, 5),\n",
    "    colormap=\"Set3\",\n",
    "    title=\"TOOL_001 - Monthly Status % Breakdown\"\n",
    ")\n",
    "\n",
    "plt.ylabel(\"Proportion\")\n",
    "plt.xlabel(\"Month\")\n",
    "plt.xticks(rotation=45)\n",
    "\n",
    "# y axis->percentage\n",
    "plt.gca().yaxis.set_major_formatter(PercentFormatter(1.0))\n",
    "\n",
    "# adjust legend placement\n",
    "plt.legend(\n",
    "    title=\"Status\",\n",
    "    bbox_to_anchor=(1.02, 1),\n",
    "    loc=\"upper left\",\n",
    "    borderaxespad=0.\n",
    ")\n",
    "\n",
    "plt.tight_layout()\n",
    "plt.show()"
   ]
  }
 ],
 "metadata": {
  "kernelspec": {
   "display_name": "Python 3",
   "language": "python",
   "name": "python3"
  },
  "language_info": {
   "codemirror_mode": {
    "name": "ipython",
    "version": 3
   },
   "file_extension": ".py",
   "mimetype": "text/x-python",
   "name": "python",
   "nbconvert_exporter": "python",
   "pygments_lexer": "ipython3",
   "version": "3.10.4"
  }
 },
 "nbformat": 4,
 "nbformat_minor": 2
}
